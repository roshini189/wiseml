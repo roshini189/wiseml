{
  "nbformat": 4,
  "nbformat_minor": 0,
  "metadata": {
    "colab": {
      "name": "Chatbot.ipynb",
      "provenance": [],
      "collapsed_sections": [],
      "include_colab_link": true
    },
    "kernelspec": {
      "name": "python3",
      "display_name": "Python 3"
    },
    "language_info": {
      "name": "python"
    }
  },
  "cells": [
    {
      "cell_type": "markdown",
      "metadata": {
        "id": "view-in-github",
        "colab_type": "text"
      },
      "source": [
        "<a href=\"https://colab.research.google.com/github/Krishnaveni15082001/ChatBot/blob/main/Chatbot.ipynb\" target=\"_parent\"><img src=\"https://colab.research.google.com/assets/colab-badge.svg\" alt=\"Open In Colab\"/></a>"
      ]
    },
    {
      "cell_type": "code",
      "metadata": {
        "colab": {
          "base_uri": "https://localhost:8080/"
        },
        "id": "HK7Vq1R8aBNk",
        "outputId": "543d562f-3783-425c-9d91-6f8936225a3d"
      },
      "source": [
        "pip install nltk\n"
      ],
      "execution_count": null,
      "outputs": [
        {
          "output_type": "stream",
          "text": [
            "Requirement already satisfied: nltk in /usr/local/lib/python3.7/dist-packages (3.2.5)\n",
            "Requirement already satisfied: six in /usr/local/lib/python3.7/dist-packages (from nltk) (1.15.0)\n"
          ],
          "name": "stdout"
        }
      ]
    },
    {
      "cell_type": "code",
      "metadata": {
        "colab": {
          "base_uri": "https://localhost:8080/"
        },
        "id": "GaWcfMJtaDx0",
        "outputId": "1577e59d-85f5-4b7f-9cca-83b7a288eac3"
      },
      "source": [
        "pip install newspaper3k"
      ],
      "execution_count": null,
      "outputs": [
        {
          "output_type": "stream",
          "text": [
            "Collecting newspaper3k\n",
            "  Using cached https://files.pythonhosted.org/packages/d7/b9/51afecb35bb61b188a4b44868001de348a0e8134b4dfa00ffc191567c4b9/newspaper3k-0.2.8-py3-none-any.whl\n",
            "Collecting jieba3k>=0.35.1\n",
            "  Using cached https://files.pythonhosted.org/packages/a9/cb/2c8332bcdc14d33b0bedd18ae0a4981a069c3513e445120da3c3f23a8aaa/jieba3k-0.35.1.zip\n",
            "Requirement already satisfied: PyYAML>=3.11 in /usr/local/lib/python3.7/dist-packages (from newspaper3k) (3.13)\n",
            "Requirement already satisfied: requests>=2.10.0 in /usr/local/lib/python3.7/dist-packages (from newspaper3k) (2.23.0)\n",
            "Collecting cssselect>=0.9.2\n",
            "  Using cached https://files.pythonhosted.org/packages/3b/d4/3b5c17f00cce85b9a1e6f91096e1cc8e8ede2e1be8e96b87ce1ed09e92c5/cssselect-1.1.0-py2.py3-none-any.whl\n",
            "Collecting tldextract>=2.0.1\n",
            "\u001b[?25l  Downloading https://files.pythonhosted.org/packages/7e/62/b6acd3129c5615b9860e670df07fd55b76175b63e6b7f68282c7cad38e9e/tldextract-3.1.0-py2.py3-none-any.whl (87kB)\n",
            "\u001b[K     |████████████████████████████████| 92kB 3.8MB/s \n",
            "\u001b[?25hRequirement already satisfied: Pillow>=3.3.0 in /usr/local/lib/python3.7/dist-packages (from newspaper3k) (7.1.2)\n",
            "Requirement already satisfied: beautifulsoup4>=4.4.1 in /usr/local/lib/python3.7/dist-packages (from newspaper3k) (4.6.3)\n",
            "Collecting feedparser>=5.2.1\n",
            "\u001b[?25l  Downloading https://files.pythonhosted.org/packages/1c/21/faf1bac028662cc8adb2b5ef7a6f3999a765baa2835331df365289b0ca56/feedparser-6.0.2-py3-none-any.whl (80kB)\n",
            "\u001b[K     |████████████████████████████████| 81kB 4.2MB/s \n",
            "\u001b[?25hCollecting feedfinder2>=0.0.4\n",
            "  Downloading https://files.pythonhosted.org/packages/35/82/1251fefec3bb4b03fd966c7e7f7a41c9fc2bb00d823a34c13f847fd61406/feedfinder2-0.0.4.tar.gz\n",
            "Collecting tinysegmenter==0.3\n",
            "  Downloading https://files.pythonhosted.org/packages/17/82/86982e4b6d16e4febc79c2a1d68ee3b707e8a020c5d2bc4af8052d0f136a/tinysegmenter-0.3.tar.gz\n",
            "Requirement already satisfied: python-dateutil>=2.5.3 in /usr/local/lib/python3.7/dist-packages (from newspaper3k) (2.8.1)\n",
            "Requirement already satisfied: lxml>=3.6.0 in /usr/local/lib/python3.7/dist-packages (from newspaper3k) (4.2.6)\n",
            "Requirement already satisfied: nltk>=3.2.1 in /usr/local/lib/python3.7/dist-packages (from newspaper3k) (3.2.5)\n",
            "Requirement already satisfied: idna<3,>=2.5 in /usr/local/lib/python3.7/dist-packages (from requests>=2.10.0->newspaper3k) (2.10)\n",
            "Requirement already satisfied: certifi>=2017.4.17 in /usr/local/lib/python3.7/dist-packages (from requests>=2.10.0->newspaper3k) (2020.12.5)\n",
            "Requirement already satisfied: chardet<4,>=3.0.2 in /usr/local/lib/python3.7/dist-packages (from requests>=2.10.0->newspaper3k) (3.0.4)\n",
            "Requirement already satisfied: urllib3!=1.25.0,!=1.25.1,<1.26,>=1.21.1 in /usr/local/lib/python3.7/dist-packages (from requests>=2.10.0->newspaper3k) (1.24.3)\n",
            "Requirement already satisfied: filelock>=3.0.8 in /usr/local/lib/python3.7/dist-packages (from tldextract>=2.0.1->newspaper3k) (3.0.12)\n",
            "Collecting requests-file>=1.4\n",
            "  Downloading https://files.pythonhosted.org/packages/77/86/cdb5e8eaed90796aa83a6d9f75cfbd37af553c47a291cd47bc410ef9bdb2/requests_file-1.5.1-py2.py3-none-any.whl\n",
            "Collecting sgmllib3k\n",
            "  Downloading https://files.pythonhosted.org/packages/9e/bd/3704a8c3e0942d711c1299ebf7b9091930adae6675d7c8f476a7ce48653c/sgmllib3k-1.0.0.tar.gz\n",
            "Requirement already satisfied: six in /usr/local/lib/python3.7/dist-packages (from feedfinder2>=0.0.4->newspaper3k) (1.15.0)\n",
            "Building wheels for collected packages: jieba3k, feedfinder2, tinysegmenter, sgmllib3k\n",
            "  Building wheel for jieba3k (setup.py) ... \u001b[?25l\u001b[?25hdone\n",
            "  Created wheel for jieba3k: filename=jieba3k-0.35.1-cp37-none-any.whl size=7398406 sha256=3401ccde83ded09848add84468184c58bb64332ecde5a506251531ae768f97d8\n",
            "  Stored in directory: /root/.cache/pip/wheels/83/15/9c/a3f1f67e7f7181170ad37d32e503c35da20627c013f438ed34\n",
            "  Building wheel for feedfinder2 (setup.py) ... \u001b[?25l\u001b[?25hdone\n",
            "  Created wheel for feedfinder2: filename=feedfinder2-0.0.4-cp37-none-any.whl size=3358 sha256=40cd0837bfce4e5f14dc43831a3c70b857aa6dc50a12b5b7ddbc6cae475394ea\n",
            "  Stored in directory: /root/.cache/pip/wheels/de/03/ca/778e3a7a627e3d98836cc890e7cb40c7575424cfd3340f40ed\n",
            "  Building wheel for tinysegmenter (setup.py) ... \u001b[?25l\u001b[?25hdone\n",
            "  Created wheel for tinysegmenter: filename=tinysegmenter-0.3-cp37-none-any.whl size=13538 sha256=8e0910b6ec4010a870ea93de9f99b9764f8df50911b0035c3072d696f845d72a\n",
            "  Stored in directory: /root/.cache/pip/wheels/81/2b/43/a02ede72324dd40cdd7ca53aad718c7710628e91b8b0dc0f02\n",
            "  Building wheel for sgmllib3k (setup.py) ... \u001b[?25l\u001b[?25hdone\n",
            "  Created wheel for sgmllib3k: filename=sgmllib3k-1.0.0-cp37-none-any.whl size=6067 sha256=d5e06dd91f5b54716ecb830d46c7f0891bdc673eac608c297917f4ffd5a0d3ec\n",
            "  Stored in directory: /root/.cache/pip/wheels/f1/80/5a/444ba08a550cdd241bd9baf8bae44be750efe370adb944506a\n",
            "Successfully built jieba3k feedfinder2 tinysegmenter sgmllib3k\n",
            "Installing collected packages: jieba3k, cssselect, requests-file, tldextract, sgmllib3k, feedparser, feedfinder2, tinysegmenter, newspaper3k\n",
            "Successfully installed cssselect-1.1.0 feedfinder2-0.0.4 feedparser-6.0.2 jieba3k-0.35.1 newspaper3k-0.2.8 requests-file-1.5.1 sgmllib3k-1.0.0 tinysegmenter-0.3 tldextract-3.1.0\n"
          ],
          "name": "stdout"
        }
      ]
    },
    {
      "cell_type": "code",
      "metadata": {
        "id": "o4MLCeCKaIIu"
      },
      "source": [
        "#import libraries\n",
        "from newspaper import Article\n",
        "import random\n",
        "import string\n",
        "import nltk\n",
        "import numpy as np\n",
        "from sklearn.feature_extraction.text import CountVectorizer\n",
        "from sklearn.metrics.pairwise import cosine_similarity\n",
        "import warnings\n",
        "warnings.filterwarnings('ignore')"
      ],
      "execution_count": null,
      "outputs": []
    },
    {
      "cell_type": "code",
      "metadata": {
        "colab": {
          "base_uri": "https://localhost:8080/"
        },
        "id": "VN2YodOca97i",
        "outputId": "4deb153e-f9f7-414c-dd98-f66c1d3cb707"
      },
      "source": [
        "#download the punkt package\n",
        "nltk.download('punkt', quiet=True)"
      ],
      "execution_count": null,
      "outputs": [
        {
          "output_type": "execute_result",
          "data": {
            "text/plain": [
              "True"
            ]
          },
          "metadata": {
            "tags": []
          },
          "execution_count": 5
        }
      ]
    },
    {
      "cell_type": "code",
      "metadata": {
        "id": "tWyIr0pnbQdo"
      },
      "source": [
        "#Get the article\n",
        "article = Article('https://www.nationalgeographic.com/environment/article/global-warming-overview')\n",
        "article.download()\n",
        "article.parse()\n",
        "article.nlp()\n",
        "corpus = article.text"
      ],
      "execution_count": null,
      "outputs": []
    },
    {
      "cell_type": "code",
      "metadata": {
        "colab": {
          "base_uri": "https://localhost:8080/"
        },
        "id": "syK6qv2Fcoin",
        "outputId": "d84f94fc-de16-452d-9cca-a7503f27a235"
      },
      "source": [
        "#print the article text\n",
        "print(corpus)"
      ],
      "execution_count": null,
      "outputs": [
        {
          "output_type": "stream",
          "text": [
            "Glaciers are melting, sea levels are rising, cloud forests are dying, and wildlife is scrambling to keep pace. It has become clear that humans have caused most of the past century's warming by releasing heat-trapping gases as we power our modern lives. Called greenhouse gases, their levels are higher now than at any time in the last 800,000 years.\n",
            "\n",
            "We often call the result global warming, but it is causing a set of changes to the Earth's climate, or long-term weather patterns, that varies from place to place. While many people think of global warming and climate change as synonyms, scientists use “climate change” when describing the complex shifts now affecting our planet’s weather and climate systems—in part because some areas actually get cooler in the short term.\n",
            "\n",
            "Climate change encompasses not only rising average temperatures but also extreme weather events, shifting wildlife populations and habitats, rising seas, and a range of other impacts. All of those changes are emerging as humans continue to add heat-trapping greenhouse gases to the atmosphere, changing the rhythms of climate that all living things have come to rely on.\n",
            "\n",
            "What will we do—what can we do—to slow this human-caused warming? How will we cope with the changes we've already set into motion? While we struggle to figure it all out, the fate of the Earth as we know it—coasts, forests, farms, and snow-capped mountains—hangs in the balance.\n",
            "\n",
            "Please be respectful of copyright. Unauthorized use is prohibited. Please be respectful of copyright. Unauthorized use is prohibited. Please be respectful of copyright. Unauthorized use is prohibited. Please be respectful of copyright. Unauthorized use is prohibited. Please be respectful of copyright. Unauthorized use is prohibited. Please be respectful of copyright. Unauthorized use is prohibited. Please be respectful of copyright. Unauthorized use is prohibited. Please be respectful of copyright. Unauthorized use is prohibited. Please be respectful of copyright. Unauthorized use is prohibited. Please be respectful of copyright. Unauthorized use is prohibited. Please be respectful of copyright. Unauthorized use is prohibited. 1 / 11 1 / 11 An iceberg melts in the waters off Antarctica. Climate change has accelerated the rate of ice loss across the continent. An iceberg melts in the waters off Antarctica. Climate change has accelerated the rate of ice loss across the continent. Photograph by Paul Nicklen, Nat Geo Image Collection\n",
            "\n",
            "Understanding the greenhouse effect\n",
            "\n",
            "The \"greenhouse effect\" is the warming that happens when certain gases in Earth's atmosphere trap heat. These gases let in light but keep heat from escaping, like the glass walls of a greenhouse, hence the name.\n",
            "\n",
            "Sunlight shines onto the Earth's surface, where the energy is absorbed and then radiate back into the atmosphere as heat. In the atmosphere, greenhouse gas molecules trap some of the heat, and the rest escapes into space. The more greenhouse gases concentrate in the atmosphere, the more heat gets locked up in the molecules.\n",
            "\n",
            "Scientists have known about the greenhouse effect since 1824, when Joseph Fourier calculated that the Earth would be much colder if it had no atmosphere. This natural greenhouse effect is what keeps the Earth's climate livable. Without it, the Earth's surface would be an average of about 60 degrees Fahrenheit (33 degrees Celsius) cooler.\n",
            "\n",
            "Please be respectful of copyright. Unauthorized use is prohibited.\n",
            "\n",
            "In 1895, the Swedish chemist Svante Arrhenius discovered that humans could enhance the greenhouse effect by making carbon dioxide, a greenhouse gas. He kicked off 100 years of climate research that has given us a sophisticated understanding of global warming.\n",
            "\n",
            "Levels of greenhouse gases have gone up and down over the Earth's history, but they had been fairly constant for the past few thousand years. Global average temperatures had also stayed fairly constant over that time—until the past 150 years. Through the burning of fossil fuels and other activities that have emitted large amounts of greenhouse gases, particularly over the past few decades, humans are now enhancing the greenhouse effect and warming Earth significantly, and in ways that promise many effects, scientists warn.\n",
            "\n",
            "Aren't temperature changes natural?\n",
            "\n",
            "Human activity isn't the only factor that affects Earth's climate. Volcanic eruptions and variations in solar radiation from sunspots, solar wind, and the Earth's position relative to the sun also play a role. So do large-scale weather patterns such as El Niño.\n",
            "\n",
            "But climate models that scientists use to monitor Earth’s temperatures take those factors into account. Changes in solar radiation levels as well as minute particles suspended in the atmosphere from volcanic eruptions, for example, have contributed only about two percent to the recent warming effect. The balance comes from greenhouse gases and other human-caused factors, such as land use change.\n",
            "\n",
            "The short timescale of this recent warming is singular as well. Volcanic eruptions, for example, emit particles that temporarily cool the Earth's surface. But their effect lasts just a few years. Events like El Niño also work on fairly short and predictable cycles. On the other hand, the types of global temperature fluctuations that have contributed to ice ages occur on a cycle of hundreds of thousands of years.\n",
            "\n",
            "For thousands of years now, emissions of greenhouse gases to the atmosphere have been balanced out by greenhouse gases that are naturally absorbed. As a result, greenhouse gas concentrations and temperatures have been fairly stable, which has allowed human civilization to flourish within a consistent climate.\n",
            "\n",
            "Please be respectful of copyright. Unauthorized use is prohibited.\n",
            "\n",
            "Now, humans have increased the amount of carbon dioxide in the atmosphere by more than a third since the Industrial Revolution. Changes that have historically taken thousands of years are now happening over the course of decades.\n",
            "\n",
            "Why does this matter?\n",
            "\n",
            "The rapid rise in greenhouse gases is a problem because it’s changing the climate faster than some living things can adapt to. Also, a new and more unpredictable climate poses unique challenges to all life.\n",
            "\n",
            "Historically, Earth's climate has regularly shifted between temperatures like those we see today and temperatures cold enough to cover much of North America and Europe with ice. The difference between average global temperatures today and during those ice ages is only about 9 degrees Fahrenheit (5 degrees Celsius), and the swings have tended to happen slowly, over hundreds of thousands of years.\n",
            "\n",
            "But with concentrations of greenhouse gases rising, Earth's remaining ice sheets such as Greenland and Antarctica are starting to melt too. That extra water could raise sea levels significantly, and quickly. By 2050, sea levels are predicted to rise between one and 2.3 feet as glaciers melt.\n",
            "\n",
            "As the mercury rises, the climate can change in unexpected ways. In addition to sea levels rising, weather can become more extreme. This means more intense major storms, more rain followed by longer and drier droughts—a challenge for growing crops—changes in the ranges in which plants and animals can live, and loss of water supplies that have historically come from glaciers.\n"
          ],
          "name": "stdout"
        }
      ]
    },
    {
      "cell_type": "code",
      "metadata": {
        "colab": {
          "base_uri": "https://localhost:8080/"
        },
        "id": "HpmN8MNzc0Ld",
        "outputId": "42d55f47-4b59-4fef-97de-2b9c0a97fa31"
      },
      "source": [
        "#Tokenization\n",
        "text = corpus\n",
        "sentence_list = nltk.sent_tokenize(text) #a list of sentences\n",
        "print(sentence_list)"
      ],
      "execution_count": null,
      "outputs": [
        {
          "output_type": "stream",
          "text": [
            "['Glaciers are melting, sea levels are rising, cloud forests are dying, and wildlife is scrambling to keep pace.', \"It has become clear that humans have caused most of the past century's warming by releasing heat-trapping gases as we power our modern lives.\", 'Called greenhouse gases, their levels are higher now than at any time in the last 800,000 years.', \"We often call the result global warming, but it is causing a set of changes to the Earth's climate, or long-term weather patterns, that varies from place to place.\", 'While many people think of global warming and climate change as synonyms, scientists use “climate change” when describing the complex shifts now affecting our planet’s weather and climate systems—in part because some areas actually get cooler in the short term.', 'Climate change encompasses not only rising average temperatures but also extreme weather events, shifting wildlife populations and habitats, rising seas, and a range of other impacts.', 'All of those changes are emerging as humans continue to add heat-trapping greenhouse gases to the atmosphere, changing the rhythms of climate that all living things have come to rely on.', 'What will we do—what can we do—to slow this human-caused warming?', \"How will we cope with the changes we've already set into motion?\", 'While we struggle to figure it all out, the fate of the Earth as we know it—coasts, forests, farms, and snow-capped mountains—hangs in the balance.', 'Please be respectful of copyright.', 'Unauthorized use is prohibited.', 'Please be respectful of copyright.', 'Unauthorized use is prohibited.', 'Please be respectful of copyright.', 'Unauthorized use is prohibited.', 'Please be respectful of copyright.', 'Unauthorized use is prohibited.', 'Please be respectful of copyright.', 'Unauthorized use is prohibited.', 'Please be respectful of copyright.', 'Unauthorized use is prohibited.', 'Please be respectful of copyright.', 'Unauthorized use is prohibited.', 'Please be respectful of copyright.', 'Unauthorized use is prohibited.', 'Please be respectful of copyright.', 'Unauthorized use is prohibited.', 'Please be respectful of copyright.', 'Unauthorized use is prohibited.', 'Please be respectful of copyright.', 'Unauthorized use is prohibited.', '1 / 11 1 / 11 An iceberg melts in the waters off Antarctica.', 'Climate change has accelerated the rate of ice loss across the continent.', 'An iceberg melts in the waters off Antarctica.', 'Climate change has accelerated the rate of ice loss across the continent.', 'Photograph by Paul Nicklen, Nat Geo Image Collection\\n\\nUnderstanding the greenhouse effect\\n\\nThe \"greenhouse effect\" is the warming that happens when certain gases in Earth\\'s atmosphere trap heat.', 'These gases let in light but keep heat from escaping, like the glass walls of a greenhouse, hence the name.', \"Sunlight shines onto the Earth's surface, where the energy is absorbed and then radiate back into the atmosphere as heat.\", 'In the atmosphere, greenhouse gas molecules trap some of the heat, and the rest escapes into space.', 'The more greenhouse gases concentrate in the atmosphere, the more heat gets locked up in the molecules.', 'Scientists have known about the greenhouse effect since 1824, when Joseph Fourier calculated that the Earth would be much colder if it had no atmosphere.', \"This natural greenhouse effect is what keeps the Earth's climate livable.\", \"Without it, the Earth's surface would be an average of about 60 degrees Fahrenheit (33 degrees Celsius) cooler.\", 'Please be respectful of copyright.', 'Unauthorized use is prohibited.', 'In 1895, the Swedish chemist Svante Arrhenius discovered that humans could enhance the greenhouse effect by making carbon dioxide, a greenhouse gas.', 'He kicked off 100 years of climate research that has given us a sophisticated understanding of global warming.', \"Levels of greenhouse gases have gone up and down over the Earth's history, but they had been fairly constant for the past few thousand years.\", 'Global average temperatures had also stayed fairly constant over that time—until the past 150 years.', 'Through the burning of fossil fuels and other activities that have emitted large amounts of greenhouse gases, particularly over the past few decades, humans are now enhancing the greenhouse effect and warming Earth significantly, and in ways that promise many effects, scientists warn.', \"Aren't temperature changes natural?\", \"Human activity isn't the only factor that affects Earth's climate.\", \"Volcanic eruptions and variations in solar radiation from sunspots, solar wind, and the Earth's position relative to the sun also play a role.\", 'So do large-scale weather patterns such as El Niño.', 'But climate models that scientists use to monitor Earth’s temperatures take those factors into account.', 'Changes in solar radiation levels as well as minute particles suspended in the atmosphere from volcanic eruptions, for example, have contributed only about two percent to the recent warming effect.', 'The balance comes from greenhouse gases and other human-caused factors, such as land use change.', 'The short timescale of this recent warming is singular as well.', \"Volcanic eruptions, for example, emit particles that temporarily cool the Earth's surface.\", 'But their effect lasts just a few years.', 'Events like El Niño also work on fairly short and predictable cycles.', 'On the other hand, the types of global temperature fluctuations that have contributed to ice ages occur on a cycle of hundreds of thousands of years.', 'For thousands of years now, emissions of greenhouse gases to the atmosphere have been balanced out by greenhouse gases that are naturally absorbed.', 'As a result, greenhouse gas concentrations and temperatures have been fairly stable, which has allowed human civilization to flourish within a consistent climate.', 'Please be respectful of copyright.', 'Unauthorized use is prohibited.', 'Now, humans have increased the amount of carbon dioxide in the atmosphere by more than a third since the Industrial Revolution.', 'Changes that have historically taken thousands of years are now happening over the course of decades.', 'Why does this matter?', 'The rapid rise in greenhouse gases is a problem because it’s changing the climate faster than some living things can adapt to.', 'Also, a new and more unpredictable climate poses unique challenges to all life.', \"Historically, Earth's climate has regularly shifted between temperatures like those we see today and temperatures cold enough to cover much of North America and Europe with ice.\", 'The difference between average global temperatures today and during those ice ages is only about 9 degrees Fahrenheit (5 degrees Celsius), and the swings have tended to happen slowly, over hundreds of thousands of years.', \"But with concentrations of greenhouse gases rising, Earth's remaining ice sheets such as Greenland and Antarctica are starting to melt too.\", 'That extra water could raise sea levels significantly, and quickly.', 'By 2050, sea levels are predicted to rise between one and 2.3 feet as glaciers melt.', 'As the mercury rises, the climate can change in unexpected ways.', 'In addition to sea levels rising, weather can become more extreme.', 'This means more intense major storms, more rain followed by longer and drier droughts—a challenge for growing crops—changes in the ranges in which plants and animals can live, and loss of water supplies that have historically come from glaciers.']\n"
          ],
          "name": "stdout"
        }
      ]
    },
    {
      "cell_type": "code",
      "metadata": {
        "id": "HTd5wQm0dsbP"
      },
      "source": [
        "def greetings(text):\n",
        "  text = text.lower()\n",
        "\n",
        "  bot_greeting = ['hi','hello','howdy','hola','wassup']\n",
        "  user_greeting = ['hi','hello','hey','hola']\n",
        "\n",
        "  for word in text.split():\n",
        "    if word in user_greeting:\n",
        "      return random.choice(bot_greeting)"
      ],
      "execution_count": null,
      "outputs": []
    },
    {
      "cell_type": "code",
      "metadata": {
        "id": "iDX62LAwzdWo"
      },
      "source": [
        "def index_sort(list_var):\n",
        "  length = len(list_var)\n",
        "  list_index = list(range(0,length))\n",
        "\n",
        "  x = list_var\n",
        "  for i in range(length):\n",
        "    for j in range(length):\n",
        "      if x[list_index[i]] > x[list_index[j]]:\n",
        "        temp = list_index[i]\n",
        "        list_index[i] = list_index[j]\n",
        "        list_index[j] = temp\n",
        "  return list_index"
      ],
      "execution_count": null,
      "outputs": []
    },
    {
      "cell_type": "code",
      "metadata": {
        "id": "X7cLmIu7esA-"
      },
      "source": [
        "#bot response\n",
        "def bot_response(user_input):\n",
        "  user_input = user_input.lower()\n",
        "  sentence_list.append(user_input)\n",
        "  bot_response = ''\n",
        "  cm = CountVectorizer().fit_transform(sentence_list)\n",
        "  similarity_scores = cosine_similarity(cm[-1], cm)\n",
        "  similarity_scores_list = similarity_scores.flatten()\n",
        "  index = index_sort(similarity_scores_list)\n",
        "  index = index[1:]\n",
        "  response_flag = 0\n",
        "\n",
        "  j=0\n",
        "  for i in range(len(index)):\n",
        "    if similarity_scores_list[index[i]] > 0.0:\n",
        "      bot_response = bot_response+' '+sentence_list[index[i]]\n",
        "      response_flag = 1\n",
        "      j = j+1\n",
        "      if j>2:\n",
        "        break\n",
        "  \n",
        "  if response_flag == 0:\n",
        "    bot_response = bot_response+' '+\"I apologize, I don't understand.\"\n",
        "  \n",
        "  sentence_list.remove(user_input)\n",
        "\n",
        "  return bot_response\n"
      ],
      "execution_count": null,
      "outputs": []
    },
    {
      "cell_type": "code",
      "metadata": {
        "colab": {
          "base_uri": "https://localhost:8080/"
        },
        "id": "X3ygzipk016h",
        "outputId": "ce1e8ceb-337e-4c04-ae21-899267c53926"
      },
      "source": [
        "#start chat\n",
        "print(\"Hi how can i help you?\")\n",
        "\n",
        "exit_list = ['exit','bye','quit','break','see you later']\n",
        "\n",
        "while True:\n",
        "  user_input = input()\n",
        "  if user_input.lower() in exit_list:\n",
        "    print('bye')\n",
        "    break\n",
        "  else:\n",
        "    if greetings(user_input) != None:\n",
        "      print('Bot :'+greetings(user_input))\n",
        "    else:\n",
        "      print('Bot :'+bot_response(user_input))"
      ],
      "execution_count": null,
      "outputs": [
        {
          "output_type": "stream",
          "text": [
            "Hi how can i help you?\n",
            "hi\n",
            "Bot :howdy\n",
            "whats your name\n",
            "Bot : These gases let in light but keep heat from escaping, like the glass walls of a greenhouse, hence the name.\n",
            "what are you answerig\n",
            "Bot : Glaciers are melting, sea levels are rising, cloud forests are dying, and wildlife is scrambling to keep pace. What will we do—what can we do—to slow this human-caused warming? This natural greenhouse effect is what keeps the Earth's climate livable.\n"
          ],
          "name": "stdout"
        }
      ]
    }
  ]
}